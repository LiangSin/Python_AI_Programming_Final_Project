{
 "cells": [
  {
   "cell_type": "markdown",
   "metadata": {
    "id": "RxlVun9FR_TN"
   },
   "source": [
    "## Setup\n",
    "Run only ONCE!"
   ]
  },
  {
   "cell_type": "markdown",
   "metadata": {
    "id": "QPAtVWXU2eoP"
   },
   "source": [
    "### Environment"
   ]
  },
  {
   "cell_type": "code",
   "execution_count": null,
   "metadata": {
    "colab": {
     "base_uri": "https://localhost:8080/"
    },
    "executionInfo": {
     "elapsed": 2866,
     "status": "ok",
     "timestamp": 1731676659293,
     "user": {
      "displayName": "syun",
      "userId": "05249065493119873144"
     },
     "user_tz": -480
    },
    "id": "cg269oaIl3IY",
    "outputId": "19bd4195-42e7-4f53-847b-e628e1b5c61a"
   },
   "outputs": [],
   "source": [
    "%pip install -r requirement.txt"
   ]
  },
  {
   "cell_type": "markdown",
   "metadata": {
    "id": "w9GCmfb-2i2m"
   },
   "source": [
    "### Download Dataset"
   ]
  },
  {
   "cell_type": "code",
   "execution_count": null,
   "metadata": {},
   "outputs": [],
   "source": [
    "!mkdir annotations\n",
    "%cd annotations\n",
    "print(\"Downloading the annotations...\")\n",
    "!wget http://images.cocodataset.org/annotations/annotations_trainval2017.zip\n",
    "print(\"Inflating the zip files...\")\n",
    "!unzip -q annotations_trainval2017.zip\n",
    "!mv annotations/instances_train2017.json .\n",
    "!mv annotations/instances_val2017.json .\n",
    "!rm -rf annotations\n",
    "!rm annotations_trainval2017.zip\n",
    "%cd .."
   ]
  },
  {
   "cell_type": "code",
   "execution_count": null,
   "metadata": {
    "colab": {
     "base_uri": "https://localhost:8080/"
    },
    "executionInfo": {
     "elapsed": 659546,
     "status": "ok",
     "timestamp": 1731679749891,
     "user": {
      "displayName": "syun",
      "userId": "05249065493119873144"
     },
     "user_tz": -480
    },
    "id": "Ra92RiJAzG1J",
    "outputId": "e040a089-085d-4fce-a22d-33b279941182"
   },
   "outputs": [],
   "source": [
    "!mkdir dataset\n",
    "%cd dataset\n",
    "!mkdir images\n",
    "%cd images\n",
    "print(\"Downloading the dataset...\\nThis may take a long time.\")\n",
    "!wget http://images.cocodataset.org/zips/train2017.zip\n",
    "!wget http://images.cocodataset.org/zips/val2017.zip\n",
    "print(\"Inflating the zip files...\")\n",
    "!unzip -q train2017.zip\n",
    "!unzip -q val2017.zip\n",
    "!mv train2017 train\n",
    "!mv val2017 val\n",
    "%cd ../.."
   ]
  },
  {
   "cell_type": "markdown",
   "metadata": {
    "id": "qros4mBO0BD9"
   },
   "source": [
    "## Create YOLO dataset"
   ]
  },
  {
   "cell_type": "code",
   "execution_count": null,
   "metadata": {
    "executionInfo": {
     "elapsed": 4,
     "status": "ok",
     "timestamp": 1731679749891,
     "user": {
      "displayName": "syun",
      "userId": "05249065493119873144"
     },
     "user_tz": -480
    },
    "id": "jtdMw6TN0J2w"
   },
   "outputs": [],
   "source": [
    "# Set the proportion of original COCO dataset you want to run\n",
    "subset = 0.01"
   ]
  },
  {
   "cell_type": "code",
   "execution_count": null,
   "metadata": {},
   "outputs": [],
   "source": [
    "!python COCO_tool/create_subset.py \\\n",
    "    --annFile annotations/instances_train2017.json \\\n",
    "    --proportion $subset"
   ]
  },
  {
   "cell_type": "code",
   "execution_count": null,
   "metadata": {
    "colab": {
     "base_uri": "https://localhost:8080/"
    },
    "executionInfo": {
     "elapsed": 7416,
     "status": "ok",
     "timestamp": 1731679757303,
     "user": {
      "displayName": "syun",
      "userId": "05249065493119873144"
     },
     "user_tz": -480
    },
    "id": "3EEW1MQy0DaE",
    "outputId": "7fec6e3b-e0da-4b86-c909-cf6dec038d73"
   },
   "outputs": [],
   "source": [
    "if subset == 1:\n",
    "  train_json = \"annotations/instances_train2017.json\"\n",
    "else:\n",
    "  print(\"Select subset\", subset)\n",
    "  train_json = f\"annotations/subsets/instances_train2017_subset_{subset}.json\"\n",
    "\n",
    "val_json = \"annotations/instances_val2017.json\"\n",
    "dataset_path = \"dataset\"\n",
    "yaml_out = \"YOLO_tool/coco.yaml\"\n",
    "\n",
    "!python COCO_tool/create_YOLO_dataset.py \\\n",
    "        --annTrain $train_json \\\n",
    "        --annVal $val_json \\\n",
    "        --dataset $dataset_path \\\n",
    "        --yaml $yaml_out"
   ]
  },
  {
   "cell_type": "markdown",
   "metadata": {
    "id": "VQ-kOhHn9BT7"
   },
   "source": [
    "# Train YOLO"
   ]
  },
  {
   "cell_type": "code",
   "execution_count": null,
   "metadata": {
    "colab": {
     "base_uri": "https://localhost:8080/"
    },
    "id": "51XLsy_w7121",
    "outputId": "507f4a5b-192c-4ed4-bd18-5b1483620afc"
   },
   "outputs": [],
   "source": [
    "%cd YOLO_tool\n",
    "!python train.py\n",
    "%cd .."
   ]
  },
  {
   "cell_type": "markdown",
   "metadata": {},
   "source": [
    "## UI"
   ]
  },
  {
   "cell_type": "code",
   "execution_count": null,
   "metadata": {},
   "outputs": [],
   "source": [
    "%cd UI\n",
    "!python main.py\n",
    "%cd .."
   ]
  }
 ],
 "metadata": {
  "accelerator": "GPU",
  "colab": {
   "authorship_tag": "ABX9TyMCy53K3z+I6TDAvFdnzslN",
   "gpuType": "T4",
   "provenance": []
  },
  "kernelspec": {
   "display_name": "Python 3",
   "name": "python3"
  },
  "language_info": {
   "name": "python"
  }
 },
 "nbformat": 4,
 "nbformat_minor": 0
}
